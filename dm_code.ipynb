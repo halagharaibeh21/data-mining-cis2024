{
  "nbformat": 4,
  "nbformat_minor": 0,
  "metadata": {
    "colab": {
      "provenance": []
    },
    "kernelspec": {
      "name": "python3",
      "display_name": "Python 3"
    },
    "language_info": {
      "name": "python"
    }
  },
  "cells": [
    {
      "cell_type": "code",
      "execution_count": 3,
      "metadata": {
        "colab": {
          "base_uri": "https://localhost:8080/"
        },
        "id": "sCGm8kYOArz3",
        "outputId": "65956a9e-303c-498b-ff6f-2f09f756e752"
      },
      "outputs": [
        {
          "output_type": "stream",
          "name": "stdout",
          "text": [
            "[LightGBM] [Info] Auto-choosing row-wise multi-threading, the overhead of testing was 0.005063 seconds.\n",
            "You can set `force_row_wise=true` to remove the overhead.\n",
            "And if memory is not enough, you can set `force_col_wise=true`.\n",
            "[LightGBM] [Info] Total Bins 987\n",
            "[LightGBM] [Info] Number of data points in the train set: 81943, number of used features: 11\n",
            "[LightGBM] [Info] Start training from score 0.501202\n"
          ]
        }
      ],
      "source": [
        "import pandas as pd\n",
        "import numpy as np\n",
        "import lightgbm as lgb\n",
        "from sklearn.model_selection import train_test_split\n",
        "from sklearn.metrics import mean_squared_error\n",
        "from imblearn.over_sampling import RandomOverSampler\n",
        "\n",
        "traindata = pd.read_csv('train.csv.zip')\n",
        "\n",
        "traindata.fillna(traindata.mean(), inplace=True)\n",
        "\n",
        "tx = traindata.drop(\"Response\", axis=1)\n",
        "ty = traindata[\"Response\"]\n",
        "\n",
        "oversampler = RandomOverSampler(sampling_strategy='minority')\n",
        "x_resampled, y_resampled = oversampler.fit_resample(tx, ty)\n",
        "\n",
        "x_train, x_test, y_train, y_test = train_test_split(x_resampled, y_resampled, test_size=0.3)\n",
        "\n",
        "lgb_regressor = lgb.LGBMRegressor(n_estimators=58, random_state=50)\n",
        "lgb_regressor.fit(x_train, y_train)\n",
        "\n",
        "y_probabilities = lgb_regressor.predict(x_test) / lgb_regressor.predict(x_test).max()\n",
        "\n",
        "testing_data = pd.read_csv('test.csv.zip')\n",
        "\n",
        "y_predict = lgb_regressor.predict(testing_data)\n",
        "\n",
        "id = np.arange(len(y_predict))\n",
        "data_set = pd.DataFrame({'id': id, 'response': y_predict})\n",
        "\n",
        "data_set.to_csv('try', index=False)\n",
        "\n"
      ]
    }
  ]
}